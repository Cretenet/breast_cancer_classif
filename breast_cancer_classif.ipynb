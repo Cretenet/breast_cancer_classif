{
 "cells": [
  {
   "cell_type": "code",
   "execution_count": 1,
   "metadata": {},
   "outputs": [],
   "source": [
    "import numpy as np\n",
    "import pandas as pd\n",
    "from sklearn.model_selection import train_test_split\n",
    "from sklearn.pipeline import Pipeline\n",
    "from sklearn.preprocessing import StandardScaler\n",
    "from sklearn.model_selection import GridSearchCV\n",
    "from sklearn.metrics import accuracy_score"
   ]
  },
  {
   "cell_type": "markdown",
   "metadata": {},
   "source": [
    "# Exploration of the dataset\n",
    "We first start by checking the presence of missing values"
   ]
  },
  {
   "cell_type": "code",
   "execution_count": null,
   "metadata": {},
   "outputs": [],
   "source": [
    "dataset = pd.read_csv('wbc.csv').drop('id', axis=1)\n",
    "print(f'Shape of the dataset : {dataset.shape}.\\nPresence of NaNs:\\n{dataset.isna().sum()}')"
   ]
  },
  {
   "cell_type": "markdown",
   "metadata": {},
   "source": [
    "We now check the descriptive statistics of the dataset"
   ]
  },
  {
   "cell_type": "code",
   "execution_count": null,
   "metadata": {},
   "outputs": [],
   "source": [
    "dataset.describe()"
   ]
  },
  {
   "cell_type": "markdown",
   "metadata": {},
   "source": [
    "## Conclusion\n",
    "We learnt that there are no missing values in our features and that they are not on the same scale (normalization might be necessary for some models)<br>\n",
    "We can therefore proceed and split the train and test set"
   ]
  },
  {
   "cell_type": "code",
   "execution_count": 3,
   "metadata": {},
   "outputs": [],
   "source": [
    "X = dataset.drop('diagnosis', axis=1).values\n",
    "y = dataset['diagnosis'].values\n",
    "y = y=='M'\n",
    "\n",
    "X_train, X_test, y_train, y_test = train_test_split(X, y, test_size=0.2, random_state=99, stratify=y)"
   ]
  },
  {
   "cell_type": "markdown",
   "metadata": {},
   "source": [
    "# Feature Selection"
   ]
  },
  {
   "cell_type": "code",
   "execution_count": null,
   "metadata": {},
   "outputs": [],
   "source": [
    "from sklearn.feature_selection import RFECV\n",
    "from sklearn.linear_model import LogisticRegression\n",
    "\n",
    "ss = StandardScaler()\n",
    "X_scale = ss.fit_transform(X)\n",
    "selector = RFECV(LogisticRegression(max_iter=10000), step=1, cv=5)\n",
    "selector.fit(X_scale, y)\n",
    "print(selector.ranking_)\n",
    "print(selector.support_)"
   ]
  },
  {
   "cell_type": "markdown",
   "metadata": {},
   "source": [
    "## Conclusion\n",
    "RFECV showe us that no feature should be removed from the dataset. "
   ]
  },
  {
   "cell_type": "markdown",
   "metadata": {},
   "source": [
    "# Compare models performance"
   ]
  },
  {
   "cell_type": "markdown",
   "metadata": {},
   "source": [
    "## Logistic regression"
   ]
  },
  {
   "cell_type": "code",
   "execution_count": 52,
   "metadata": {},
   "outputs": [
    {
     "name": "stdout",
     "output_type": "stream",
     "text": [
      "Score when tested on the test set : 0.9649122807017544.\n",
      "This score is obtained with the following parameters : {'logreg__C': 0.4413793103448276, 'logreg__max_iter': 10000, 'logreg__penalty': 'l2', 'logreg__solver': 'saga'}\n"
     ]
    }
   ],
   "source": [
    "from sklearn.linear_model import LogisticRegression\n",
    "\n",
    "steps = [('scale', StandardScaler()), ('logreg', LogisticRegression())]\n",
    "params = {'logreg__penalty': ['l1', 'l2'],\n",
    "         'logreg__C': np.linspace(0.1, 10.0, 30),\n",
    "         'logreg__solver': ['saga'],\n",
    "         'logreg__max_iter': [10000]}\n",
    "pipeline = Pipeline(steps)\n",
    "grid_logreg = GridSearchCV(pipeline, param_grid=params, cv=5)\n",
    "\n",
    "grid_logreg.fit(X_train, y_train)\n",
    "\n",
    "print(f'Score when tested on the test set : {grid_logreg.score(X_test, y_test)}.\\nThis score is obtained with the following parameters : {grid_logreg.best_params_}')"
   ]
  },
  {
   "cell_type": "markdown",
   "metadata": {},
   "source": [
    "## Random Forest Classifier"
   ]
  },
  {
   "cell_type": "code",
   "execution_count": 50,
   "metadata": {},
   "outputs": [
    {
     "name": "stdout",
     "output_type": "stream",
     "text": [
      "Score when tested on the test set : 0.9385964912280702.\n",
      "This score is obtained with the following parameters : {'max_depth': 8, 'max_features': 'sqrt', 'n_estimators': 100}\n"
     ]
    }
   ],
   "source": [
    "from sklearn.ensemble import RandomForestClassifier\n",
    "\n",
    "params = {\n",
    "        'n_estimators': np.arange(100, 600, 100),\n",
    "        'max_depth': np.arange(2,10,2),\n",
    "        'max_features': [1.0, 'sqrt', 'log2',1],\n",
    "    }\n",
    "\n",
    "grid_rfc = GridSearchCV(RandomForestClassifier(random_state=99), param_grid = params, cv=5)\n",
    "\n",
    "grid_rfc.fit(X_train, y_train)\n",
    "\n",
    "print(f'Score when tested on the test set : {grid_rfc.score(X_test, y_test)}.\\nThis score is obtained with the following parameters : {grid_rfc.best_params_}')"
   ]
  },
  {
   "cell_type": "markdown",
   "metadata": {},
   "source": [
    "## Support Vector Machine"
   ]
  },
  {
   "cell_type": "code",
   "execution_count": 51,
   "metadata": {},
   "outputs": [
    {
     "name": "stdout",
     "output_type": "stream",
     "text": [
      "Score when tested on the test set : 0.9649122807017544.\n",
      "This score is obtained with the following parameters : {'max_depth': 8, 'max_features': 'sqrt', 'n_estimators': 100}\n"
     ]
    }
   ],
   "source": [
    "from sklearn.svm import SVC\n",
    "\n",
    "steps = [('scale', StandardScaler()), ('svc', SVC(random_state=99))]\n",
    "params = {\n",
    "        'svc__C': np.linspace(0.01, 1.0, 30),\n",
    "        'svc__kernel': ['linear', 'poly', 'rbf', 'sigmoid'],\n",
    "        'svc__degree': np.arange(2,10,1)\n",
    "}\n",
    "pipeline = Pipeline(steps)\n",
    "\n",
    "grid_svc = GridSearchCV(pipeline, param_grid=params, cv=5)\n",
    "\n",
    "grid_svc.fit(X_train, y_train)\n",
    "\n",
    "print(f'Score when tested on the test set : {grid_svc.score(X_test, y_test)}.\\nThis score is obtained with the following parameters : {grid_rfc.best_params_}')"
   ]
  },
  {
   "cell_type": "markdown",
   "metadata": {},
   "source": [
    "## K Neighbors Classifier"
   ]
  },
  {
   "cell_type": "code",
   "execution_count": 53,
   "metadata": {},
   "outputs": [
    {
     "name": "stdout",
     "output_type": "stream",
     "text": [
      "Score when tested on the test set : 0.956140350877193.\n",
      "This score is obtained with the following parameters : {'knn__n_neighbors': 9, 'knn__weights': 'uniform'}\n"
     ]
    }
   ],
   "source": [
    "from sklearn.neighbors import KNeighborsClassifier\n",
    "\n",
    "steps = [('scale', StandardScaler()), ('knn', KNeighborsClassifier())]\n",
    "params = {\n",
    "        'knn__n_neighbors': np.arange(1,15),\n",
    "        'knn__weights': ['uniform', 'distance']\n",
    "}\n",
    "pipeline=Pipeline(steps)\n",
    "\n",
    "grid_knn = GridSearchCV(pipeline, param_grid=params, cv=5)\n",
    "\n",
    "grid_knn.fit(X_train, y_train)\n",
    "\n",
    "print(f'Score when tested on the test set : {grid_knn.score(X_test, y_test)}.\\nThis score is obtained with the following parameters : {grid_knn.best_params_}')"
   ]
  },
  {
   "cell_type": "markdown",
   "metadata": {},
   "source": [
    "## Naive Bayes"
   ]
  },
  {
   "cell_type": "code",
   "execution_count": 54,
   "metadata": {},
   "outputs": [
    {
     "name": "stdout",
     "output_type": "stream",
     "text": [
      "Score when tested on the test set : 0.9210526315789473.\n"
     ]
    }
   ],
   "source": [
    "from sklearn.naive_bayes import GaussianNB\n",
    "\n",
    "gnb = GaussianNB()\n",
    "gnb.fit(X_train, y_train)\n",
    "\n",
    "print(f'Score when tested on the test set : {gnb.score(X_test, y_test)}.')"
   ]
  },
  {
   "cell_type": "markdown",
   "metadata": {},
   "source": [
    "## Ensemble Learning"
   ]
  },
  {
   "cell_type": "code",
   "execution_count": 56,
   "metadata": {},
   "outputs": [
    {
     "name": "stdout",
     "output_type": "stream",
     "text": [
      "Accuracy when using applying a majority vote to the 3 best models : 0.9649122807017544\n",
      "We see that this is the same accuracy as the best model\n"
     ]
    }
   ],
   "source": [
    "y_pred = (np.where(grid_rfc.predict(X_test),1,0) + np.where(grid_svc.predict(X_test),1,0) + np.where(grid_knn.predict(X_test),1,0))//2\n",
    "print(f'Accuracy when using applying a majority vote to the 3 best models : {accuracy_score(y_test, y_pred)}\\nWe see that this is the same accuracy as the best model')"
   ]
  },
  {
   "cell_type": "markdown",
   "metadata": {},
   "source": [
    "## Conclusion\n",
    "The best performing model seems to be the linear ones. Indeed, the logistic regression and the linear SVC performed with the same accuracy : 96.5%"
   ]
  }
 ],
 "metadata": {
  "kernelspec": {
   "display_name": "Python 3.8.10 ('venv': venv)",
   "language": "python",
   "name": "python3"
  },
  "language_info": {
   "codemirror_mode": {
    "name": "ipython",
    "version": 3
   },
   "file_extension": ".py",
   "mimetype": "text/x-python",
   "name": "python",
   "nbconvert_exporter": "python",
   "pygments_lexer": "ipython3",
   "version": "3.8.10"
  },
  "orig_nbformat": 4,
  "vscode": {
   "interpreter": {
    "hash": "a9cb40749054195e0e1c7d1fba64e530383218a036bf5e6f93388ad4a623cd2b"
   }
  }
 },
 "nbformat": 4,
 "nbformat_minor": 2
}
